{
 "cells": [
  {
   "cell_type": "markdown",
   "metadata": {},
   "source": [
    "# Series Introduction"
   ]
  },
  {
   "cell_type": "code",
   "execution_count": 2,
   "metadata": {},
   "outputs": [
    {
     "name": "stdout",
     "output_type": "stream",
     "text": [
      "1.5.1\n"
     ]
    }
   ],
   "source": [
    "import pandas as pd\n",
    "print(pd.__version__)"
   ]
  },
  {
   "cell_type": "code",
   "execution_count": 3,
   "metadata": {},
   "outputs": [],
   "source": [
    "list_of_names = ['a', 'b', 'c']"
   ]
  },
  {
   "cell_type": "markdown",
   "metadata": {},
   "source": [
    "Series can be created from a list"
   ]
  },
  {
   "cell_type": "code",
   "execution_count": 4,
   "metadata": {},
   "outputs": [
    {
     "data": {
      "text/plain": [
       "0    a\n",
       "1    b\n",
       "2    c\n",
       "dtype: object"
      ]
     },
     "execution_count": 4,
     "metadata": {},
     "output_type": "execute_result"
    }
   ],
   "source": [
    "pd.Series(list_of_names)"
   ]
  },
  {
   "cell_type": "markdown",
   "metadata": {},
   "source": [
    "> Notice how different datatypes can be added in a Series"
   ]
  },
  {
   "cell_type": "code",
   "execution_count": 6,
   "metadata": {},
   "outputs": [
    {
     "name": "stdout",
     "output_type": "stream",
     "text": [
      "0                True\n",
      "1                true\n",
      "2                  11\n",
      "3              11.332\n",
      "4    {'key': 'value'}\n",
      "dtype: object\n"
     ]
    }
   ],
   "source": [
    "mixed = [True, 'true', 11, 11.332, {'key': 'value'}]\n",
    "print(pd.Series(mixed))"
   ]
  },
  {
   "cell_type": "markdown",
   "metadata": {},
   "source": [
    "## Using lists and dictionaries to create a series"
   ]
  },
  {
   "cell_type": "code",
   "execution_count": 11,
   "metadata": {},
   "outputs": [
    {
     "name": "stdout",
     "output_type": "stream",
     "text": [
      "list_series: \n",
      "0    63\n",
      "1    79\n",
      "2    64\n",
      "3    50\n",
      "4    66\n",
      "dtype: int64\n",
      "\n",
      "dict_series: \n",
      "66     4\n",
      "94    47\n",
      "97    81\n",
      "36    44\n",
      "88    71\n",
      "dtype: int64\n",
      "\n"
     ]
    }
   ],
   "source": [
    "import random\n",
    "list_1 = [random.randint(0, 100) for _ in range(0, 5)]\n",
    "list_series = pd.Series(list_1)\n",
    "\n",
    "dict_1 = {random.randint(0, 100): random.randint(0, 100) for _ in range(0, 5)}\n",
    "dict_series = pd.Series(dict_1)\n",
    "\n",
    "print(f\"list_series: \\n{list_series}\\n\")\n",
    "print(f\"dict_series: \\n{dict_series}\\n\")"
   ]
  },
  {
   "cell_type": "markdown",
   "metadata": {},
   "source": [
    "## `dtype` attribute\n",
    "\n",
    "- Usually the type inference in Pandas is good enough, no need to specify this attribute.\n",
    "\n",
    "> If a list of strings is passed in, the `dtype` would be inferrered as _object_.\n",
    "\n",
    "## Index\n",
    "\n",
    "We can specify the index instead of the default indexing in a series."
   ]
  },
  {
   "cell_type": "code",
   "execution_count": 16,
   "metadata": {},
   "outputs": [
    {
     "name": "stdout",
     "output_type": "stream",
     "text": [
      "Index(['one', 'two', 'three', 'four', 'five'], dtype='object')\n",
      "<class 'pandas.core.indexes.base.Index'>\n"
     ]
    }
   ],
   "source": [
    "index_pd = pd.Series(data=list_1, index=[\"one\", \"two\", \"three\", \"four\", \"five\"])\n",
    "print(index_pd.index, type(index_pd.index), sep=\"\\n\")"
   ]
  },
  {
   "cell_type": "code",
   "execution_count": 20,
   "metadata": {},
   "outputs": [
    {
     "name": "stdout",
     "output_type": "stream",
     "text": [
      "RangeIndex(start=0, stop=10, step=2) <class 'pandas.core.indexes.range.RangeIndex'>\n"
     ]
    }
   ],
   "source": [
    "customIndex = pd.RangeIndex(start=0, stop=10, step=2)\n",
    "print(customIndex, type(customIndex))"
   ]
  },
  {
   "cell_type": "code",
   "execution_count": 21,
   "metadata": {},
   "outputs": [
    {
     "name": "stdout",
     "output_type": "stream",
     "text": [
      "0    0\n",
      "2    1\n",
      "4    2\n",
      "6    3\n",
      "8    4\n",
      "dtype: int64\n"
     ]
    }
   ],
   "source": [
    "customIndexSeries = pd.Series(data=[i for i in range(0, 5)], index=customIndex)\n",
    "print(customIndexSeries)"
   ]
  },
  {
   "cell_type": "code",
   "execution_count": 25,
   "metadata": {},
   "outputs": [
    {
     "name": "stdout",
     "output_type": "stream",
     "text": [
      "['pota', 'django', 'kitty', 'mikki'] [7, 5, 7, 10]\n"
     ]
    }
   ],
   "source": [
    "list_names = [\"pota\", \"django\", \"kitty\", \"mikki\"]\n",
    "list_ages = [random.randint(5, 10) for _ in range(4)]"
   ]
  },
  {
   "cell_type": "code",
   "execution_count": 28,
   "metadata": {},
   "outputs": [
    {
     "name": "stdout",
     "output_type": "stream",
     "text": [
      "7       pota\n",
      "5     django\n",
      "7      kitty\n",
      "10     mikki\n",
      "Name: Cats, dtype: object\n"
     ]
    }
   ],
   "source": [
    "series_names = pd.Series(data=list_names, index=list_ages, name=\"Cats\")\n",
    "print(series_names)"
   ]
  },
  {
   "cell_type": "markdown",
   "metadata": {},
   "source": [
    "## `head()` and `tail()` methods"
   ]
  },
  {
   "cell_type": "code",
   "execution_count": 30,
   "metadata": {},
   "outputs": [
    {
     "data": {
      "text/plain": [
       "(7    pota\n",
       " Name: Cats, dtype: object,\n",
       " 10    mikki\n",
       " Name: Cats, dtype: object)"
      ]
     },
     "execution_count": 30,
     "metadata": {},
     "output_type": "execute_result"
    }
   ],
   "source": [
    "series_names.head(n=1), series_names.tail(n=1)"
   ]
  },
  {
   "cell_type": "markdown",
   "metadata": {},
   "source": [
    "## `size` to get the length of the series\n",
    "\n",
    "We can display a specific number of rows by setting,\n",
    "`pd.options.display.min_rows = 40`\n",
    "\n",
    "This would display 40 rows minimum. "
   ]
  },
  {
   "cell_type": "code",
   "execution_count": 31,
   "metadata": {},
   "outputs": [
    {
     "data": {
      "text/plain": [
       "4"
      ]
     },
     "execution_count": 31,
     "metadata": {},
     "output_type": "execute_result"
    }
   ],
   "source": [
    "series_names.size"
   ]
  },
  {
   "cell_type": "code",
   "execution_count": null,
   "metadata": {},
   "outputs": [],
   "source": []
  }
 ],
 "metadata": {
  "kernelspec": {
   "display_name": "Python 3.10.8 64-bit",
   "language": "python",
   "name": "python3"
  },
  "language_info": {
   "codemirror_mode": {
    "name": "ipython",
    "version": 3
   },
   "file_extension": ".py",
   "mimetype": "text/x-python",
   "name": "python",
   "nbconvert_exporter": "python",
   "pygments_lexer": "ipython3",
   "version": "3.10.8"
  },
  "orig_nbformat": 4,
  "vscode": {
   "interpreter": {
    "hash": "e7370f93d1d0cde622a1f8e1c04877d8463912d04d973331ad4851f04de6915a"
   }
  }
 },
 "nbformat": 4,
 "nbformat_minor": 2
}
