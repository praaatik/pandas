{
 "cells": [
  {
   "cell_type": "markdown",
   "metadata": {},
   "source": [
    "# Series Introduction\n"
   ]
  },
  {
   "cell_type": "code",
   "execution_count": 53,
   "metadata": {},
   "outputs": [
    {
     "name": "stdout",
     "output_type": "stream",
     "text": [
      "1.5.1\n"
     ]
    }
   ],
   "source": [
    "import pandas as pd\n",
    "import random\n",
    "\n",
    "print(pd.__version__)\n"
   ]
  },
  {
   "cell_type": "code",
   "execution_count": 66,
   "metadata": {},
   "outputs": [],
   "source": [
    "def generate_random_series(length):\n",
    "    return pd.Series(data=[random.randint(0, 100) for _ in range(length)])\n"
   ]
  },
  {
   "cell_type": "code",
   "execution_count": 2,
   "metadata": {},
   "outputs": [],
   "source": [
    "list_of_names = ['a', 'b', 'c']\n"
   ]
  },
  {
   "cell_type": "markdown",
   "metadata": {},
   "source": [
    "Series can be created from a list\n"
   ]
  },
  {
   "cell_type": "code",
   "execution_count": 3,
   "metadata": {},
   "outputs": [
    {
     "data": {
      "text/plain": [
       "0    a\n",
       "1    b\n",
       "2    c\n",
       "dtype: object"
      ]
     },
     "execution_count": 3,
     "metadata": {},
     "output_type": "execute_result"
    }
   ],
   "source": [
    "pd.Series(list_of_names)\n"
   ]
  },
  {
   "cell_type": "markdown",
   "metadata": {},
   "source": [
    "> Notice how different datatypes can be added in a Series\n"
   ]
  },
  {
   "cell_type": "code",
   "execution_count": 4,
   "metadata": {},
   "outputs": [
    {
     "name": "stdout",
     "output_type": "stream",
     "text": [
      "0                True\n",
      "1                true\n",
      "2                  11\n",
      "3              11.332\n",
      "4    {'key': 'value'}\n",
      "dtype: object\n"
     ]
    }
   ],
   "source": [
    "mixed = [True, 'true', 11, 11.332, {'key': 'value'}]\n",
    "print(pd.Series(mixed))\n"
   ]
  },
  {
   "cell_type": "markdown",
   "metadata": {},
   "source": [
    "## Using lists and dictionaries to create a series\n"
   ]
  },
  {
   "cell_type": "code",
   "execution_count": 5,
   "metadata": {},
   "outputs": [
    {
     "name": "stdout",
     "output_type": "stream",
     "text": [
      "list_series: \n",
      "0    92\n",
      "1    47\n",
      "2    23\n",
      "3    19\n",
      "4    17\n",
      "dtype: int64\n",
      "\n",
      "dict_series: \n",
      "15    86\n",
      "80    79\n",
      "19    56\n",
      "18    90\n",
      "36    57\n",
      "dtype: int64\n",
      "\n"
     ]
    }
   ],
   "source": [
    "import random\n",
    "list_1 = [random.randint(0, 100) for _ in range(0, 5)]\n",
    "list_series = pd.Series(list_1)\n",
    "\n",
    "dict_1 = {random.randint(0, 100): random.randint(0, 100) for _ in range(0, 5)}\n",
    "dict_series = pd.Series(dict_1)\n",
    "\n",
    "print(f\"list_series: \\n{list_series}\\n\")\n",
    "print(f\"dict_series: \\n{dict_series}\\n\")\n"
   ]
  },
  {
   "cell_type": "markdown",
   "metadata": {},
   "source": [
    "## `dtype` attribute\n",
    "\n",
    "- Usually the type inference in Pandas is good enough, no need to specify this attribute.\n",
    "\n",
    "> If a list of strings is passed in, the `dtype` would be inferrered as _object_.\n",
    "\n",
    "## Index\n",
    "\n",
    "We can specify the index instead of the default indexing in a series.\n"
   ]
  },
  {
   "cell_type": "code",
   "execution_count": 6,
   "metadata": {},
   "outputs": [
    {
     "name": "stdout",
     "output_type": "stream",
     "text": [
      "Index(['one', 'two', 'three', 'four', 'five'], dtype='object')\n",
      "<class 'pandas.core.indexes.base.Index'>\n"
     ]
    }
   ],
   "source": [
    "index_pd = pd.Series(data=list_1, index=[\n",
    "                     \"one\", \"two\", \"three\", \"four\", \"five\"])\n",
    "print(index_pd.index, type(index_pd.index), sep=\"\\n\")\n"
   ]
  },
  {
   "cell_type": "code",
   "execution_count": 7,
   "metadata": {},
   "outputs": [
    {
     "name": "stdout",
     "output_type": "stream",
     "text": [
      "RangeIndex(start=0, stop=10, step=2) <class 'pandas.core.indexes.range.RangeIndex'>\n"
     ]
    }
   ],
   "source": [
    "customIndex = pd.RangeIndex(start=0, stop=10, step=2)\n",
    "print(customIndex, type(customIndex))\n"
   ]
  },
  {
   "cell_type": "code",
   "execution_count": 8,
   "metadata": {},
   "outputs": [
    {
     "name": "stdout",
     "output_type": "stream",
     "text": [
      "0    0\n",
      "2    1\n",
      "4    2\n",
      "6    3\n",
      "8    4\n",
      "dtype: int64\n"
     ]
    }
   ],
   "source": [
    "customIndexSeries = pd.Series(data=[i for i in range(0, 5)], index=customIndex)\n",
    "print(customIndexSeries)\n"
   ]
  },
  {
   "cell_type": "code",
   "execution_count": 9,
   "metadata": {},
   "outputs": [],
   "source": [
    "list_names = [\"pota\", \"django\", \"kitty\", \"mikki\"]\n",
    "list_ages = [random.randint(5, 10) for _ in range(4)]\n"
   ]
  },
  {
   "cell_type": "code",
   "execution_count": 10,
   "metadata": {},
   "outputs": [
    {
     "name": "stdout",
     "output_type": "stream",
     "text": [
      "9       pota\n",
      "10    django\n",
      "8      kitty\n",
      "6      mikki\n",
      "Name: Cats, dtype: object\n"
     ]
    }
   ],
   "source": [
    "series_names = pd.Series(data=list_names, index=list_ages, name=\"Cats\")\n",
    "print(series_names)\n"
   ]
  },
  {
   "cell_type": "markdown",
   "metadata": {},
   "source": [
    "## `head()` and `tail()` methods\n"
   ]
  },
  {
   "cell_type": "code",
   "execution_count": 11,
   "metadata": {},
   "outputs": [
    {
     "data": {
      "text/plain": [
       "(9    pota\n",
       " Name: Cats, dtype: object,\n",
       " 6    mikki\n",
       " Name: Cats, dtype: object)"
      ]
     },
     "execution_count": 11,
     "metadata": {},
     "output_type": "execute_result"
    }
   ],
   "source": [
    "series_names.head(n=1), series_names.tail(n=1)\n"
   ]
  },
  {
   "cell_type": "markdown",
   "metadata": {},
   "source": [
    "## `size` to get the length of the series\n",
    "\n",
    "We can display a specific number of rows by setting,\n",
    "`pd.options.display.min_rows = 40`\n",
    "\n",
    "This would display 40 rows minimum.\n"
   ]
  },
  {
   "cell_type": "code",
   "execution_count": 12,
   "metadata": {},
   "outputs": [
    {
     "data": {
      "text/plain": [
       "4"
      ]
     },
     "execution_count": 12,
     "metadata": {},
     "output_type": "execute_result"
    }
   ],
   "source": [
    "series_names.size\n"
   ]
  },
  {
   "cell_type": "markdown",
   "metadata": {},
   "source": [
    "## Extracting by index position\n",
    "\n",
    "Elements in a series can be accessed by the index the same way we access a list.\n"
   ]
  },
  {
   "cell_type": "code",
   "execution_count": 19,
   "metadata": {},
   "outputs": [
    {
     "name": "stdout",
     "output_type": "stream",
     "text": [
      "0    a\n",
      "1    b\n",
      "2    c\n",
      "3    d\n",
      "4    e\n",
      "dtype: object\n"
     ]
    }
   ],
   "source": [
    "from string import ascii_lowercase, ascii_uppercase\n",
    "\n",
    "letters_lowercase = pd.Series(list(ascii_lowercase))\n",
    "print(letters_lowercase.head(5))\n"
   ]
  },
  {
   "cell_type": "code",
   "execution_count": 24,
   "metadata": {},
   "outputs": [
    {
     "name": "stdout",
     "output_type": "stream",
     "text": [
      "a    A\n",
      "b    B\n",
      "c    C\n",
      "d    D\n",
      "dtype: object\n"
     ]
    }
   ],
   "source": [
    "labeled_letters = pd.Series(\n",
    "    data=list(ascii_uppercase), index=letters_lowercase)\n",
    "print(labeled_letters.head(4))\n"
   ]
  },
  {
   "cell_type": "code",
   "execution_count": 36,
   "metadata": {},
   "outputs": [
    {
     "name": "stdout",
     "output_type": "stream",
     "text": [
      "True\n",
      "True\n",
      "a    A\n",
      "b    B\n",
      "dtype: object a    A\n",
      "b    B\n",
      "c    C\n",
      "dtype: object\n",
      "u    U\n",
      "v    V\n",
      "w    W\n",
      "x    X\n",
      "y    Y\n",
      "z    Z\n",
      "dtype: object\n"
     ]
    }
   ],
   "source": [
    "# first letter\n",
    "print(labeled_letters[0] == labeled_letters.get(\n",
    "    key='a') == labeled_letters['a'])\n",
    "\n",
    "# 11th letter\n",
    "print(labeled_letters[10] == labeled_letters.get(\n",
    "    key='k') == labeled_letters['k'])\n",
    "\n",
    "# first 3 letters\n",
    "# notice how the labeled access includes the label\n",
    "print(labeled_letters[:2], labeled_letters[:'c'])\n",
    "\n",
    "# last 6 letters\n",
    "print(labeled_letters['u':])\n"
   ]
  },
  {
   "cell_type": "markdown",
   "metadata": {},
   "source": [
    "## `add_prefix()` and `add_suffix()`\n",
    "\n",
    "These methods can be used to add a prefix and suffix to the _labels_ of the series/dataframe.\n",
    "\n",
    "> These are not inplace operations and create a new copy\n"
   ]
  },
  {
   "cell_type": "code",
   "execution_count": 39,
   "metadata": {},
   "outputs": [
    {
     "name": "stdout",
     "output_type": "stream",
     "text": [
      "index_0    a\n",
      "index_1    b\n",
      "index_2    c\n",
      "dtype: object\n",
      "0    a\n",
      "1    b\n",
      "2    c\n",
      "dtype: object\n"
     ]
    }
   ],
   "source": [
    "print(letters_lowercase.add_prefix('index_').head(3))\n",
    "print(letters_lowercase.head(3))\n"
   ]
  },
  {
   "cell_type": "markdown",
   "metadata": {},
   "source": [
    "## `loc` and `iloc`\n",
    "\n",
    "- `loc` can be used locate the elements in the Series/Dataframe. It is _label based_ which means we need to specify the rows and columns based on the labels.\n",
    "\n",
    "- `iloc` is _integer based_ so we need to specify the **integer position values**.\n",
    "\n",
    "- Syntax for `loc` - `loc[row_label, col_label]`\n",
    "- Syntax for `iloc` - `iloc[row_position, col_position]`\n",
    "\n",
    "Example - `labeled_letters.loc['d'] == labeled_letters.iloc[3]` _(returns True)_\n",
    "\n",
    "### Boolean mask\n",
    "\n",
    "- This is used with `loc` and `iloc` to select items at a scale\n",
    "- They need to be of the same length as the series\n",
    "\n",
    "- They can be used with a callable, slice and passing through list of values.\n"
   ]
  },
  {
   "cell_type": "code",
   "execution_count": 67,
   "metadata": {},
   "outputs": [
    {
     "name": "stdout",
     "output_type": "stream",
     "text": [
      "0     a\n",
      "2     c\n",
      "3     d\n",
      "4     e\n",
      "7     h\n",
      "8     i\n",
      "13    n\n",
      "16    q\n",
      "17    r\n",
      "22    w\n",
      "24    y\n",
      "dtype: object\n"
     ]
    }
   ],
   "source": [
    "random_mask = [True if random.randint(0, 2) == 0 else False for _ in range(26)]\n",
    "print(letters_lowercase.loc[random_mask])\n"
   ]
  },
  {
   "cell_type": "code",
   "execution_count": 80,
   "metadata": {},
   "outputs": [
    {
     "data": {
      "text/plain": [
       "True"
      ]
     },
     "execution_count": 80,
     "metadata": {},
     "output_type": "execute_result"
    }
   ],
   "source": [
    "labeled_letters.loc['d'] == labeled_letters.iloc[3]\n"
   ]
  },
  {
   "cell_type": "markdown",
   "metadata": {},
   "source": [
    "### Passing a list of values to `loc` and `iloc`\n"
   ]
  },
  {
   "cell_type": "code",
   "execution_count": 84,
   "metadata": {},
   "outputs": [
    {
     "name": "stdout",
     "output_type": "stream",
     "text": [
      "a    A\n",
      "b    B\n",
      "f    F\n",
      "dtype: object\n",
      "d    D\n",
      "f    F\n",
      "n    N\n",
      "dtype: object\n"
     ]
    }
   ],
   "source": [
    "print(labeled_letters.loc[['a', 'b', 'f']],\n",
    "      labeled_letters.iloc[[3, 5, 13]], sep=\"\\n\")\n"
   ]
  },
  {
   "cell_type": "markdown",
   "metadata": {},
   "source": [
    "### Selecting using a slice\n"
   ]
  },
  {
   "cell_type": "code",
   "execution_count": 87,
   "metadata": {},
   "outputs": [
    {
     "name": "stdout",
     "output_type": "stream",
     "text": [
      "a    A\n",
      "b    B\n",
      "c    C\n",
      "d    D\n",
      "e    E\n",
      "f    F\n",
      "dtype: object\n",
      "c    C\n",
      "d    D\n",
      "dtype: object\n"
     ]
    }
   ],
   "source": [
    "print(labeled_letters.loc['a':'f'], labeled_letters.iloc[2:4], sep=\"\\n\")\n"
   ]
  },
  {
   "cell_type": "markdown",
   "metadata": {},
   "source": [
    "> `loc` and `iloc` are interchanable when using 0-based labels\n",
    "\n",
    "### Using a callable\n"
   ]
  },
  {
   "cell_type": "code",
   "execution_count": 91,
   "metadata": {},
   "outputs": [
    {
     "data": {
      "text/plain": [
       "a    A\n",
       "b    B\n",
       "c    C\n",
       "d    D\n",
       "e    E\n",
       "f    F\n",
       "g    G\n",
       "h    H\n",
       "i    I\n",
       "j    J\n",
       "dtype: object"
      ]
     },
     "execution_count": 91,
     "metadata": {},
     "output_type": "execute_result"
    }
   ],
   "source": [
    "labeled_letters.loc[lambda x: [True if i <\n",
    "                               10 else False for i in range(x.size)]]\n"
   ]
  },
  {
   "cell_type": "markdown",
   "metadata": {},
   "source": [
    "## Selection of data in a nutshell\n",
    "\n",
    "### Selection by label\n",
    "\n",
    "| **Approach**              | **Example**                      | **Comments**                                                                       |\n",
    "| ------------------------- | -------------------------------- | ---------------------------------------------------------------------------------- |\n",
    "| indexing                  | `series['label_name']`           | slices, callables, boolean masks                                                   |\n",
    "| `loc`                     | `series.loc['label']`            | slices, callables, boolean masks                                                   |\n",
    "| direct access using _dot_ | `series.label`                   | no slice of boolean mask support                                                   |\n",
    "| `.get()`                  | `series.get('label', default=0)` | no slice support, provides default value, can exit gracefully if label not present |\n",
    "\n",
    "### Selection by Position\n",
    "\n",
    "| **Approach** | **Example**                      | **Comments**                                                                       |\n",
    "| ------------ | -------------------------------- | ---------------------------------------------------------------------------------- |\n",
    "| indexing     | `series[index]`                      | slices, callables, boolean masks                                                   |\n",
    "| `iloc`       | `series.iloc[index]`               | slices, callables, boolean masks                                                   |\n",
    "| `.get()`     | `series.get(index, default=0)` | no slice support, provides default value, can exit gracefully if label not present |\n"
   ]
  },
  {
   "cell_type": "code",
   "execution_count": 97,
   "metadata": {},
   "outputs": [
    {
     "name": "stdout",
     "output_type": "stream",
     "text": [
      "97    9409\n",
      "98    9604\n",
      "99    9801\n",
      "dtype: int64\n",
      "97    9409\n",
      "98    9604\n",
      "99    9801\n",
      "dtype: int64\n",
      "97    True\n",
      "98    True\n",
      "99    True\n",
      "dtype: bool\n"
     ]
    }
   ],
   "source": [
    "# exercise\n",
    "squares = pd.Series(data=[i**2 for i in range(100)])\n",
    "print(squares.tail(3), squares[-3:], squares[-3:] == squares.tail(3), sep=\"\\n\")"
   ]
  },
  {
   "cell_type": "code",
   "execution_count": null,
   "metadata": {},
   "outputs": [],
   "source": []
  }
 ],
 "metadata": {
  "kernelspec": {
   "display_name": "Python 3.10.8 64-bit",
   "language": "python",
   "name": "python3"
  },
  "language_info": {
   "codemirror_mode": {
    "name": "ipython",
    "version": 3
   },
   "file_extension": ".py",
   "mimetype": "text/x-python",
   "name": "python",
   "nbconvert_exporter": "python",
   "pygments_lexer": "ipython3",
   "version": "3.10.8"
  },
  "orig_nbformat": 4,
  "vscode": {
   "interpreter": {
    "hash": "e7370f93d1d0cde622a1f8e1c04877d8463912d04d973331ad4851f04de6915a"
   }
  }
 },
 "nbformat": 4,
 "nbformat_minor": 2
}
